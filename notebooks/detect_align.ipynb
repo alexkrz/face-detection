{
 "cells": [
  {
   "cell_type": "code",
   "execution_count": null,
   "metadata": {},
   "outputs": [],
   "source": [
    "import os\n",
    "import sys\n",
    "from pathlib import Path\n",
    "\n",
    "import cv2\n",
    "import matplotlib.pyplot as plt\n",
    "import numpy as np\n",
    "from PIL import Image\n",
    "\n",
    "sys.path.append(\"../\")\n",
    "from detect_align import align_face\n",
    "from src.utils import draw_bboxes_and_keypoints\n",
    "from src.yolo import yolo_detect\n",
    "\n",
    "%load_ext autoreload\n",
    "%autoreload 2"
   ]
  },
  {
   "cell_type": "code",
   "execution_count": null,
   "metadata": {},
   "outputs": [],
   "source": [
    "# Read image\n",
    "img_p = \"../data/009_03.jpg\"\n",
    "img_in = cv2.imread(img_p)\n",
    "plt.imshow(cv2.cvtColor(img_in, cv2.COLOR_BGR2RGB))\n",
    "plt.show()"
   ]
  },
  {
   "cell_type": "code",
   "execution_count": null,
   "metadata": {},
   "outputs": [],
   "source": [
    "# Detect faces\n",
    "bboxes, keypoints_all = yolo_detect(\n",
    "    img_in,\n",
    "    checkpoint_p=\"../checkpoints/yolo/yolov8n-face.onnx\",\n",
    ")\n",
    "n_detections = len(bboxes)\n",
    "img_out = draw_bboxes_and_keypoints(img_in, bboxes, keypoints_all)\n",
    "plt.imshow(cv2.cvtColor(img_out, cv2.COLOR_BGR2RGB))\n",
    "plt.show()"
   ]
  },
  {
   "cell_type": "code",
   "execution_count": null,
   "metadata": {},
   "outputs": [],
   "source": [
    "# Align face to 112x112 pixel template\n",
    "if n_detections == 1:\n",
    "    # Perform face alignment to 112x112 pixel and store aligned images\n",
    "    assert len(keypoints_all) == 1\n",
    "    keypoints = keypoints_all[0]\n",
    "    landmarks = np.array(list(keypoints.values()), dtype=np.float32)\n",
    "\n",
    "img_aligend = align_face(img_in, landmarks)\n",
    "plt.imshow(cv2.cvtColor(img_aligend, cv2.COLOR_BGR2RGB))\n",
    "plt.show()"
   ]
  },
  {
   "cell_type": "code",
   "execution_count": null,
   "metadata": {},
   "outputs": [],
   "source": []
  }
 ],
 "metadata": {
  "kernelspec": {
   "display_name": "fdetect",
   "language": "python",
   "name": "python3"
  },
  "language_info": {
   "codemirror_mode": {
    "name": "ipython",
    "version": 3
   },
   "file_extension": ".py",
   "mimetype": "text/x-python",
   "name": "python",
   "nbconvert_exporter": "python",
   "pygments_lexer": "ipython3",
   "version": "3.11.11"
  }
 },
 "nbformat": 4,
 "nbformat_minor": 2
}
